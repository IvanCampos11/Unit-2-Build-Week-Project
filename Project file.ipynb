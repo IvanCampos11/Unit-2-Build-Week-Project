{
 "metadata": {
  "language_info": {
   "codemirror_mode": {
    "name": "ipython",
    "version": 3
   },
   "file_extension": ".py",
   "mimetype": "text/x-python",
   "name": "python",
   "nbconvert_exporter": "python",
   "pygments_lexer": "ipython3",
   "version": "3.8.2-final"
  },
  "orig_nbformat": 2,
  "kernelspec": {
   "name": "python3",
   "display_name": "Python 3"
  }
 },
 "nbformat": 4,
 "nbformat_minor": 2,
 "cells": [
  {
   "cell_type": "code",
   "execution_count": 2,
   "metadata": {},
   "outputs": [],
   "source": [
    "import pandas as pd"
   ]
  },
  {
   "cell_type": "code",
   "execution_count": 3,
   "metadata": {},
   "outputs": [],
   "source": [
    "df = pd.read_csv(\"high_diamond_ranked_10min.csv\")"
   ]
  },
  {
   "cell_type": "code",
   "execution_count": 4,
   "metadata": {},
   "outputs": [],
   "source": [
    "from sklearn.ensemble import RandomForestClassifier\n",
    "from sklearn.impute import SimpleImputer\n",
    "from sklearn.pipeline import make_pipeline\n",
    "from sklearn.feature_selection import SelectKBest\n",
    "from sklearn.preprocessing import StandardScaler\n",
    "from sklearn.metrics import classification_report\n",
    "import numpy as np\n",
    "from sklearn.model_selection import train_test_split\n",
    "from sklearn.preprocessing import OneHotEncoder, OrdinalEncoder\n",
    "from sklearn.ensemble import RandomForestRegressor\n",
    "from sklearn.model_selection import RandomizedSearchCV\n",
    "from sklearn.linear_model import LogisticRegression\n",
    "from sklearn.metrics import mean_squared_error \n",
    "from sklearn.linear_model import LinearRegression"
   ]
  },
  {
   "cell_type": "code",
   "execution_count": 6,
   "metadata": {},
   "outputs": [
    {
     "output_type": "execute_result",
     "data": {
      "text/plain": "        gameId  blueWins  blueWardsPlaced  blueWardsDestroyed  blueFirstBlood  \\\n0   4519157822         0               28                   2               1   \n1   4523371949         0               12                   1               0   \n2   4521474530         0               15                   0               0   \n3   4524384067         0               43                   1               0   \n4   4436033771         0               75                   4               0   \n5   4475365709         1               18                   0               0   \n6   4493010632         1               18                   3               1   \n7   4496759358         0               16                   2               0   \n8   4443048030         0               16                   3               0   \n9   4509433346         1               13                   1               1   \n10  4452162573         0               20                   3               1   \n11  4453038156         0               33                   2               1   \n12  4515594785         1               18                   1               1   \n13  4524924257         0               14                   3               0   \n14  4516505202         1               15                   3               1   \n\n    blueKills  blueDeaths  blueAssists  blueEliteMonsters  blueDragons  ...  \\\n0           9           6           11                  0            0  ...   \n1           5           5            5                  0            0  ...   \n2           7          11            4                  1            1  ...   \n3           4           5            5                  1            0  ...   \n4           6           6            6                  0            0  ...   \n5           5           3            6                  1            1  ...   \n6           7           6            7                  1            1  ...   \n7           5          13            3                  0            0  ...   \n8           7           7            8                  0            0  ...   \n9           4           5            5                  1            1  ...   \n10          4           4            6                  0            0  ...   \n11         11          11            7                  1            0  ...   \n12          7           1           11                  1            1  ...   \n13          4           9            1                  1            0  ...   \n14          4           4            4                  0            0  ...   \n\n    redTowersDestroyed  redTotalGold  redAvgLevel  redTotalExperience  \\\n0                    0         16567          6.8               17047   \n1                    1         17620          6.8               17438   \n2                    0         17285          6.8               17254   \n3                    0         16478          7.0               17961   \n4                    0         17404          7.0               18313   \n5                    0         15201          7.0               18060   \n6                    0         14463          6.4               15404   \n7                    0         17920          6.6               16938   \n8                    0         18380          7.2               19298   \n9                    0         16605          6.8               18379   \n10                   0         15143          7.2               18196   \n11                   0         18200          7.0               19142   \n12                   0         14591          6.8               17443   \n13                   0         18393          7.2               18354   \n14                   0         16192          7.0               18083   \n\n    redTotalMinionsKilled  redTotalJungleMinionsKilled  redGoldDiff  \\\n0                     197                           55         -643   \n1                     240                           52         2908   \n2                     203                           28         1172   \n3                     235                           47         1321   \n4                     225                           67         1004   \n5                     221                           59         -698   \n6                     164                           35        -2411   \n7                     157                           54         2615   \n8                     240                           53         1979   \n9                     247                           43         1548   \n10                    216                           51         -331   \n11                    188                           52         1505   \n12                    240                           50        -3274   \n13                    229                           51         3414   \n14                    242                           48          470   \n\n    redExperienceDiff  redCSPerMin  redGoldPerMin  \n0                   8         19.7         1656.7  \n1                1173         24.0         1762.0  \n2                1033         20.3         1728.5  \n3                   7         23.5         1647.8  \n4                -230         22.5         1740.4  \n5                -101         22.1         1520.1  \n6               -1563         16.4         1446.3  \n7                 800         15.7         1792.0  \n8                 771         24.0         1838.0  \n9                1574         24.7         1660.5  \n10               1585         21.6         1514.3  \n11                635         18.8         1820.0  \n12              -1659         24.0         1459.1  \n13               1141         22.9         1839.3  \n14                187         24.2         1619.2  \n\n[15 rows x 40 columns]",
      "text/html": "<div>\n<style scoped>\n    .dataframe tbody tr th:only-of-type {\n        vertical-align: middle;\n    }\n\n    .dataframe tbody tr th {\n        vertical-align: top;\n    }\n\n    .dataframe thead th {\n        text-align: right;\n    }\n</style>\n<table border=\"1\" class=\"dataframe\">\n  <thead>\n    <tr style=\"text-align: right;\">\n      <th></th>\n      <th>gameId</th>\n      <th>blueWins</th>\n      <th>blueWardsPlaced</th>\n      <th>blueWardsDestroyed</th>\n      <th>blueFirstBlood</th>\n      <th>blueKills</th>\n      <th>blueDeaths</th>\n      <th>blueAssists</th>\n      <th>blueEliteMonsters</th>\n      <th>blueDragons</th>\n      <th>...</th>\n      <th>redTowersDestroyed</th>\n      <th>redTotalGold</th>\n      <th>redAvgLevel</th>\n      <th>redTotalExperience</th>\n      <th>redTotalMinionsKilled</th>\n      <th>redTotalJungleMinionsKilled</th>\n      <th>redGoldDiff</th>\n      <th>redExperienceDiff</th>\n      <th>redCSPerMin</th>\n      <th>redGoldPerMin</th>\n    </tr>\n  </thead>\n  <tbody>\n    <tr>\n      <th>0</th>\n      <td>4519157822</td>\n      <td>0</td>\n      <td>28</td>\n      <td>2</td>\n      <td>1</td>\n      <td>9</td>\n      <td>6</td>\n      <td>11</td>\n      <td>0</td>\n      <td>0</td>\n      <td>...</td>\n      <td>0</td>\n      <td>16567</td>\n      <td>6.8</td>\n      <td>17047</td>\n      <td>197</td>\n      <td>55</td>\n      <td>-643</td>\n      <td>8</td>\n      <td>19.7</td>\n      <td>1656.7</td>\n    </tr>\n    <tr>\n      <th>1</th>\n      <td>4523371949</td>\n      <td>0</td>\n      <td>12</td>\n      <td>1</td>\n      <td>0</td>\n      <td>5</td>\n      <td>5</td>\n      <td>5</td>\n      <td>0</td>\n      <td>0</td>\n      <td>...</td>\n      <td>1</td>\n      <td>17620</td>\n      <td>6.8</td>\n      <td>17438</td>\n      <td>240</td>\n      <td>52</td>\n      <td>2908</td>\n      <td>1173</td>\n      <td>24.0</td>\n      <td>1762.0</td>\n    </tr>\n    <tr>\n      <th>2</th>\n      <td>4521474530</td>\n      <td>0</td>\n      <td>15</td>\n      <td>0</td>\n      <td>0</td>\n      <td>7</td>\n      <td>11</td>\n      <td>4</td>\n      <td>1</td>\n      <td>1</td>\n      <td>...</td>\n      <td>0</td>\n      <td>17285</td>\n      <td>6.8</td>\n      <td>17254</td>\n      <td>203</td>\n      <td>28</td>\n      <td>1172</td>\n      <td>1033</td>\n      <td>20.3</td>\n      <td>1728.5</td>\n    </tr>\n    <tr>\n      <th>3</th>\n      <td>4524384067</td>\n      <td>0</td>\n      <td>43</td>\n      <td>1</td>\n      <td>0</td>\n      <td>4</td>\n      <td>5</td>\n      <td>5</td>\n      <td>1</td>\n      <td>0</td>\n      <td>...</td>\n      <td>0</td>\n      <td>16478</td>\n      <td>7.0</td>\n      <td>17961</td>\n      <td>235</td>\n      <td>47</td>\n      <td>1321</td>\n      <td>7</td>\n      <td>23.5</td>\n      <td>1647.8</td>\n    </tr>\n    <tr>\n      <th>4</th>\n      <td>4436033771</td>\n      <td>0</td>\n      <td>75</td>\n      <td>4</td>\n      <td>0</td>\n      <td>6</td>\n      <td>6</td>\n      <td>6</td>\n      <td>0</td>\n      <td>0</td>\n      <td>...</td>\n      <td>0</td>\n      <td>17404</td>\n      <td>7.0</td>\n      <td>18313</td>\n      <td>225</td>\n      <td>67</td>\n      <td>1004</td>\n      <td>-230</td>\n      <td>22.5</td>\n      <td>1740.4</td>\n    </tr>\n    <tr>\n      <th>5</th>\n      <td>4475365709</td>\n      <td>1</td>\n      <td>18</td>\n      <td>0</td>\n      <td>0</td>\n      <td>5</td>\n      <td>3</td>\n      <td>6</td>\n      <td>1</td>\n      <td>1</td>\n      <td>...</td>\n      <td>0</td>\n      <td>15201</td>\n      <td>7.0</td>\n      <td>18060</td>\n      <td>221</td>\n      <td>59</td>\n      <td>-698</td>\n      <td>-101</td>\n      <td>22.1</td>\n      <td>1520.1</td>\n    </tr>\n    <tr>\n      <th>6</th>\n      <td>4493010632</td>\n      <td>1</td>\n      <td>18</td>\n      <td>3</td>\n      <td>1</td>\n      <td>7</td>\n      <td>6</td>\n      <td>7</td>\n      <td>1</td>\n      <td>1</td>\n      <td>...</td>\n      <td>0</td>\n      <td>14463</td>\n      <td>6.4</td>\n      <td>15404</td>\n      <td>164</td>\n      <td>35</td>\n      <td>-2411</td>\n      <td>-1563</td>\n      <td>16.4</td>\n      <td>1446.3</td>\n    </tr>\n    <tr>\n      <th>7</th>\n      <td>4496759358</td>\n      <td>0</td>\n      <td>16</td>\n      <td>2</td>\n      <td>0</td>\n      <td>5</td>\n      <td>13</td>\n      <td>3</td>\n      <td>0</td>\n      <td>0</td>\n      <td>...</td>\n      <td>0</td>\n      <td>17920</td>\n      <td>6.6</td>\n      <td>16938</td>\n      <td>157</td>\n      <td>54</td>\n      <td>2615</td>\n      <td>800</td>\n      <td>15.7</td>\n      <td>1792.0</td>\n    </tr>\n    <tr>\n      <th>8</th>\n      <td>4443048030</td>\n      <td>0</td>\n      <td>16</td>\n      <td>3</td>\n      <td>0</td>\n      <td>7</td>\n      <td>7</td>\n      <td>8</td>\n      <td>0</td>\n      <td>0</td>\n      <td>...</td>\n      <td>0</td>\n      <td>18380</td>\n      <td>7.2</td>\n      <td>19298</td>\n      <td>240</td>\n      <td>53</td>\n      <td>1979</td>\n      <td>771</td>\n      <td>24.0</td>\n      <td>1838.0</td>\n    </tr>\n    <tr>\n      <th>9</th>\n      <td>4509433346</td>\n      <td>1</td>\n      <td>13</td>\n      <td>1</td>\n      <td>1</td>\n      <td>4</td>\n      <td>5</td>\n      <td>5</td>\n      <td>1</td>\n      <td>1</td>\n      <td>...</td>\n      <td>0</td>\n      <td>16605</td>\n      <td>6.8</td>\n      <td>18379</td>\n      <td>247</td>\n      <td>43</td>\n      <td>1548</td>\n      <td>1574</td>\n      <td>24.7</td>\n      <td>1660.5</td>\n    </tr>\n    <tr>\n      <th>10</th>\n      <td>4452162573</td>\n      <td>0</td>\n      <td>20</td>\n      <td>3</td>\n      <td>1</td>\n      <td>4</td>\n      <td>4</td>\n      <td>6</td>\n      <td>0</td>\n      <td>0</td>\n      <td>...</td>\n      <td>0</td>\n      <td>15143</td>\n      <td>7.2</td>\n      <td>18196</td>\n      <td>216</td>\n      <td>51</td>\n      <td>-331</td>\n      <td>1585</td>\n      <td>21.6</td>\n      <td>1514.3</td>\n    </tr>\n    <tr>\n      <th>11</th>\n      <td>4453038156</td>\n      <td>0</td>\n      <td>33</td>\n      <td>2</td>\n      <td>1</td>\n      <td>11</td>\n      <td>11</td>\n      <td>7</td>\n      <td>1</td>\n      <td>0</td>\n      <td>...</td>\n      <td>0</td>\n      <td>18200</td>\n      <td>7.0</td>\n      <td>19142</td>\n      <td>188</td>\n      <td>52</td>\n      <td>1505</td>\n      <td>635</td>\n      <td>18.8</td>\n      <td>1820.0</td>\n    </tr>\n    <tr>\n      <th>12</th>\n      <td>4515594785</td>\n      <td>1</td>\n      <td>18</td>\n      <td>1</td>\n      <td>1</td>\n      <td>7</td>\n      <td>1</td>\n      <td>11</td>\n      <td>1</td>\n      <td>1</td>\n      <td>...</td>\n      <td>0</td>\n      <td>14591</td>\n      <td>6.8</td>\n      <td>17443</td>\n      <td>240</td>\n      <td>50</td>\n      <td>-3274</td>\n      <td>-1659</td>\n      <td>24.0</td>\n      <td>1459.1</td>\n    </tr>\n    <tr>\n      <th>13</th>\n      <td>4524924257</td>\n      <td>0</td>\n      <td>14</td>\n      <td>3</td>\n      <td>0</td>\n      <td>4</td>\n      <td>9</td>\n      <td>1</td>\n      <td>1</td>\n      <td>0</td>\n      <td>...</td>\n      <td>0</td>\n      <td>18393</td>\n      <td>7.2</td>\n      <td>18354</td>\n      <td>229</td>\n      <td>51</td>\n      <td>3414</td>\n      <td>1141</td>\n      <td>22.9</td>\n      <td>1839.3</td>\n    </tr>\n    <tr>\n      <th>14</th>\n      <td>4516505202</td>\n      <td>1</td>\n      <td>15</td>\n      <td>3</td>\n      <td>1</td>\n      <td>4</td>\n      <td>4</td>\n      <td>4</td>\n      <td>0</td>\n      <td>0</td>\n      <td>...</td>\n      <td>0</td>\n      <td>16192</td>\n      <td>7.0</td>\n      <td>18083</td>\n      <td>242</td>\n      <td>48</td>\n      <td>470</td>\n      <td>187</td>\n      <td>24.2</td>\n      <td>1619.2</td>\n    </tr>\n  </tbody>\n</table>\n<p>15 rows × 40 columns</p>\n</div>"
     },
     "metadata": {},
     "execution_count": 6
    }
   ],
   "source": [
    "df.head(15)"
   ]
  },
  {
   "cell_type": "code",
   "execution_count": 14,
   "metadata": {
    "tags": []
   },
   "outputs": [
    {
     "output_type": "execute_result",
     "data": {
      "text/plain": "(9879, 40)"
     },
     "metadata": {},
     "execution_count": 14
    }
   ],
   "source": [
    "df.shape"
   ]
  },
  {
   "cell_type": "code",
   "execution_count": 15,
   "metadata": {},
   "outputs": [
    {
     "output_type": "execute_result",
     "data": {
      "text/plain": "0    0.500962\n1    0.499038\nName: blueWins, dtype: float64"
     },
     "metadata": {},
     "execution_count": 15
    }
   ],
   "source": [
    "df['blueWins'].value_counts(normalize=True)"
   ]
  },
  {
   "cell_type": "code",
   "execution_count": 16,
   "metadata": {},
   "outputs": [],
   "source": [
    "train = df\n",
    "test = df.drop('blueWins',axis=1)"
   ]
  },
  {
   "cell_type": "code",
   "execution_count": 17,
   "metadata": {},
   "outputs": [],
   "source": [
    "train, val = train_test_split(train, train_size=0.80, test_size=0.20, stratify=df['blueWins'], random_state=42)"
   ]
  },
  {
   "cell_type": "code",
   "execution_count": 18,
   "metadata": {},
   "outputs": [],
   "source": [
    "target = 'blueWins'\n",
    "train_features = train.drop(columns=[target])\n",
    "numeric_features = train_features.select_dtypes(include='number').columns.tolist()\n",
    "features = numeric_features"
   ]
  },
  {
   "cell_type": "code",
   "execution_count": 19,
   "metadata": {},
   "outputs": [],
   "source": [
    "X_train = train[features]\n",
    "y_train = train[target]\n",
    "X_val = val[features]\n",
    "y_val = val[target]\n",
    "X_test = test[features]"
   ]
  },
  {
   "cell_type": "code",
   "execution_count": 13,
   "metadata": {
    "tags": []
   },
   "outputs": [
    {
     "output_type": "stream",
     "name": "stdout",
     "text": "Fitting 5 folds for each of 150 candidates, totalling 750 fits\n[Parallel(n_jobs=-1)]: Using backend LokyBackend with 12 concurrent workers.\n[Parallel(n_jobs=-1)]: Done  26 tasks      | elapsed:    2.0s\n[Parallel(n_jobs=-1)]: Done 176 tasks      | elapsed:    5.8s\n[Parallel(n_jobs=-1)]: Done 727 out of 750 | elapsed:   11.7s remaining:    0.3s\n[Parallel(n_jobs=-1)]: Done 750 out of 750 | elapsed:   13.7s finished\nBest Score: -0.2943167679485024\nBest param: {'randomforestclassifier__min_samples_split': 10, 'randomforestclassifier__max_features': 9, 'randomforestclassifier__max_depth': 14, 'randomforestclassifier__criterion': 'entropy'}\nBest estimaator: Pipeline(memory=None,\n         steps=[('selectkbest',\n                 SelectKBest(k=10,\n                             score_func=<function f_classif at 0x000001D440D8DC18>)),\n                ('standardscaler',\n                 StandardScaler(copy=True, with_mean=True, with_std=True)),\n                ('randomforestclassifier',\n                 RandomForestClassifier(bootstrap=True, ccp_alpha=0.0,\n                                        class_weight=None, criterion='entropy',\n                                        max_depth=14, max_features=9,\n                                        max_leaf_nodes=None, max_samples=None,\n                                        min_impurity_decrease=0.0,\n                                        min_impurity_split=None,\n                                        min_samples_leaf=1,\n                                        min_samples_split=10,\n                                        min_weight_fraction_leaf=0.0,\n                                        n_estimators=9, n_jobs=1,\n                                        oob_score=False, random_state=42,\n                                        verbose=0, warm_start=False))],\n         verbose=False)\nWall time: 20.8 s\n"
    }
   ],
   "source": [
    "%%time\n",
    "pipeline = make_pipeline(\n",
    "    SelectKBest(),\n",
    "    StandardScaler(),\n",
    "    RandomForestClassifier(\n",
    "        n_jobs=1,\n",
    "        random_state=42,\n",
    "        n_estimators=9,\n",
    "    )\n",
    ")\n",
    "\n",
    "param_distributions = {\n",
    "    'randomforestclassifier__criterion': ('gini', 'entropy'),\n",
    "    'randomforestclassifier__max_depth': (14,15,16,20,25),\n",
    "    'randomforestclassifier__max_features': (9,12,13,14,15,16),\n",
    "    'randomforestclassifier__min_samples_split': (2,4,6,8,10)\n",
    "}\n",
    "\n",
    "search = RandomizedSearchCV(\n",
    "    pipeline,\n",
    "    param_distributions=param_distributions,\n",
    "    n_iter=150,\n",
    "    cv=5,\n",
    "    scoring='neg_mean_squared_error',\n",
    "    verbose=1,\n",
    "    return_train_score=True,\n",
    "    n_jobs=-1,\n",
    ")\n",
    "\n",
    "search.fit(X_train,y_train)\n",
    "\n",
    "print('Best Score:',search.best_score_)\n",
    "print('Best param:',search.best_params_)\n",
    "print('Best estimaator:', search.best_estimator_)"
   ]
  },
  {
   "cell_type": "code",
   "execution_count": 20,
   "metadata": {
    "tags": []
   },
   "outputs": [
    {
     "output_type": "stream",
     "name": "stdout",
     "text": "Wall time: 1min 5s\n"
    },
    {
     "output_type": "execute_result",
     "data": {
      "text/plain": "Pipeline(memory=None,\n         steps=[('selectkbest',\n                 SelectKBest(k=10,\n                             score_func=<function f_classif at 0x0000022B666E7AF8>)),\n                ('standardscaler',\n                 StandardScaler(copy=True, with_mean=True, with_std=True)),\n                ('randomforestclassifier',\n                 RandomForestClassifier(bootstrap=True, ccp_alpha=0.0,\n                                        class_weight=None, criterion='entropy',\n                                        max_depth=14, max_features=9,\n                                        max_leaf_nodes=None, max_samples=None,\n                                        min_impurity_decrease=0.0,\n                                        min_impurity_split=None,\n                                        min_samples_leaf=1,\n                                        min_samples_split=10,\n                                        min_weight_fraction_leaf=0.0,\n                                        n_estimators=999, n_jobs=1,\n                                        oob_score=False, random_state=42,\n                                        verbose=0, warm_start=False))],\n         verbose=False)"
     },
     "metadata": {},
     "execution_count": 20
    }
   ],
   "source": [
    "%%time\n",
    "pipe = make_pipeline(\n",
    "    SelectKBest(k=10),\n",
    "    StandardScaler(),\n",
    "    RandomForestClassifier(bootstrap=True, ccp_alpha=0.0,\n",
    "                                        class_weight=None, criterion='entropy',\n",
    "                                        max_depth=14, max_features=9,\n",
    "                                        max_leaf_nodes=None, max_samples=None,\n",
    "                                        min_impurity_decrease=0.0,\n",
    "                                        min_impurity_split=None,\n",
    "                                        min_samples_leaf=1,\n",
    "                                        min_samples_split=10,\n",
    "                                        min_weight_fraction_leaf=0.0,\n",
    "                                        n_estimators=999, n_jobs=1,\n",
    "                                        oob_score=False, random_state=42,\n",
    "                                        verbose=0, warm_start=False)\n",
    ")\n",
    "pipe.fit(X_train,y_train)"
   ]
  },
  {
   "cell_type": "code",
   "execution_count": 21,
   "metadata": {
    "tags": []
   },
   "outputs": [
    {
     "output_type": "stream",
     "name": "stdout",
     "text": "training accuracy: 0.8600531443755536\nvalidation accuracy: 0.7074898785425101\n"
    }
   ],
   "source": [
    "print('training accuracy:', pipe.score(X_train, y_train))\n",
    "print('validation accuracy:', pipe.score(X_val, y_val))"
   ]
  },
  {
   "cell_type": "code",
   "execution_count": 25,
   "metadata": {},
   "outputs": [],
   "source": [
    "X_train, y_train = pd.concat([X_train,X_val]), pd.concat([y_train,y_val])"
   ]
  },
  {
   "cell_type": "code",
   "execution_count": 26,
   "metadata": {
    "tags": []
   },
   "outputs": [
    {
     "output_type": "stream",
     "name": "stdout",
     "text": "training accuracy: 0.8788696752425137\nvalidation accuracy: 0.9367408906882592\n"
    }
   ],
   "source": [
    "pipe.fit(X_train,y_train)\n",
    "print('training accuracy:', pipe.score(X_train, y_train))\n",
    "print('validation accuracy:', pipe.score(X_val, y_val))"
   ]
  },
  {
   "cell_type": "code",
   "execution_count": 27,
   "metadata": {},
   "outputs": [],
   "source": [
    "y_pred = pipe.predict(X_test)"
   ]
  },
  {
   "cell_type": "code",
   "execution_count": 28,
   "metadata": {},
   "outputs": [
    {
     "output_type": "execute_result",
     "data": {
      "text/plain": "0.13270573944731248"
     },
     "metadata": {},
     "execution_count": 28
    }
   ],
   "source": [
    "mean_squared_error(df[target], y_pred)"
   ]
  },
  {
   "cell_type": "code",
   "execution_count": null,
   "metadata": {},
   "outputs": [],
   "source": []
  }
 ]
}